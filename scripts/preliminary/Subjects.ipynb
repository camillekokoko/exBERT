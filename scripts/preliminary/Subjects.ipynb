{
    "cells": [
        {
            "cell_type": "code",
            "execution_count": null,
            "metadata": {},
            "outputs": [],
            "source": [
                "import pandas as pd\n",
                "import numpy as np\n",
                "import os\n",
                "\n",
                "pwd = os.getcwd() # Print Working Directory, cwd == Current Working Directory\n",
                "\n",
                "# print (pwd)"
            ]
        },
        {
            "cell_type": "code",
            "execution_count": null,
            "metadata": {},
            "outputs": [],
            "source": [
                "subjectsFile = \"\\\\SAcommunity-subject-ID-list.xlsx\"     #\n",
                "\n",
                "#inputFile = \"\\\\test-Unley Council Subject ID.xlsx\"      # \n",
                "#outputFile = \"copyUnleyCouncil Subject IDs.xlsx\"        #\n",
                "\n",
                "inputFile = \"\\\\AllSubjects-July2023.xlsx\"\n",
                "\n",
                "#inputFile = \"\\\\AllRecords-Suburbs-SubjectID-June2022.xlsx\"\n",
                "#    \n",
                "#  if j > 1, Change To:  if j > 2, account for extra column at beginning -- StreetAddress-City\n",
                "\n",
                "#outputFile = \"AllRecords-Suburbs-SubjectHeadings-June2022.xlsx\" \n",
                "outputFile = \"AllSubjects-Headings-July2023.xlsx\"\n",
                "\n",
                "dfSubjectList = pd.read_excel(pwd + subjectsFile, sheet_name='sacom-subject-IDs')\n",
                "dfSubjectList"
            ]
        },
        {
            "cell_type": "code",
            "execution_count": null,
            "metadata": {},
            "outputs": [],
            "source": [
                "dfCouncilInfo = pd.read_excel(pwd + inputFile, sheet_name= 0)\n",
                "print (len(dfCouncilInfo.columns))\n",
                "print (len(dfCouncilInfo.index))\n",
                "\n",
                "#Show dataframe before updates\n",
                "dfCouncilInfo"
            ]
        },
        {
            "cell_type": "code",
            "execution_count": null,
            "metadata": {},
            "outputs": [],
            "source": [
                "#--- Test ---\n",
                "#subjectID = dfSubjectList[dfSubjectList['Search ID'] == 134].index[0]\n",
                "#subject = dfSubjectList.at[subjectID,'Subject']\n",
                "#print(subject)\n",
                "#print(subjectID)"
            ]
        },
        {
            "cell_type": "code",
            "execution_count": null,
            "metadata": {},
            "outputs": [],
            "source": [
                "# Find and swap Subject ID's with the Subject Headings\n",
                "\n",
                "for i in range(dfCouncilInfo.shape[0]):                     # iterate over rows\n",
                "    for j in range(dfCouncilInfo.shape[1]):                 # iterate over columns\n",
                "      if j > 1:                                             # ignore Organization ID, Organization Name columns, i.e. the 1st 2 columns\n",
                "         cellValue = dfCouncilInfo.iat[i, j]                # get cell value\n",
                "         if (np.isnan(cellValue)) == False:                 # skip cells with NaN, Not a Number     \n",
                "            dfSelectedRow = dfSubjectList.loc[(dfSubjectList[\"Search ID\"] == cellValue)] #gets a row slice from dfSubjectList\n",
                "            if len(dfSelectedRow.index) != 0:               # skip row slices that return nothing\n",
                "               subject = dfSelectedRow['Subject'].values[0] # Return Subject Heading string\n",
                "               dfCouncilInfo.iat[i, j] = subject            # Replace numeric Subject ID value with the corresponding Subject Heading text\n",
                "\n",
                "#Show updated dataframe            \n",
                "dfCouncilInfo"
            ]
        },
        {
            "cell_type": "code",
            "execution_count": null,
            "metadata": {},
            "outputs": [],
            "source": [
                "\n",
                "# This version creates new file, or completely overwrites an existing one with the contents of selected \n",
                "# dataframe into a worksheet as named below\n",
                "# engine parameter is optional, usually defaults to openpyxl\n",
                "\n",
                "dfCouncilInfo.to_excel(outputFile, sheet_name='Subject Headings', engine=\"xlsxwriter\",  index = False) \n",
                "\n",
                "# This version appends to existing file (mode='a'), adds a new worksheet and fills it with the dataframe data. \n",
                "# Must NOT have an existing worksheet with the same name, throws an exception, also file must exist\n",
                "# index=true will add an extra column that is basically the same as the row numbers in the Excel file, Not needed here\n",
                "\n",
                "#with pd.ExcelWriter(outputFile, engine=\"openpyxl\", mode='a') as writer:\n",
                "#     dfCouncilInfo.to_excel(writer, sheet_name='Subject Headings', index=False)\n"
            ]
        }
    ],
    "metadata": {
        "interpreter": {
            "hash": "a949da22c735455d0a0906f6bf08258e264f23495cc687adc9dab14f038cd828"
        },
        "kernelspec": {
            "display_name": "Python 3.9.7 64-bit ('ProjectEnv': venv)",
            "language": "python",
            "name": "python3"
        },
        "language_info": {
            "codemirror_mode": {
                "name": "ipython",
                "version": 3
            },
            "file_extension": ".py",
            "mimetype": "text/x-python",
            "name": "python",
            "nbconvert_exporter": "python",
            "pygments_lexer": "ipython3",
            "version": "3.9.7"
        },
        "orig_nbformat": 4
    },
    "nbformat": 4,
    "nbformat_minor": 2
}
